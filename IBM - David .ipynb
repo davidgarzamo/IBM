{
 "cells": [
  {
   "cell_type": "markdown",
   "id": "653a1a25",
   "metadata": {},
   "source": [
    "<h1>My Jupyter Notebook on IBM Watson Studio</h1>"
   ]
  },
  {
   "cell_type": "markdown",
   "id": "bcca1cd4",
   "metadata": {},
   "source": [
    "**David Brandon Garza Montalvo**\n",
    "\n",
    "Coordinator Oracle Netsuite"
   ]
  },
  {
   "cell_type": "markdown",
   "id": "70c29991",
   "metadata": {},
   "source": [
    "*I am interested in Data Science because I find it very interesting how it can help me exploit all that information using the right tools and procedures, this will help us a lot to make better decisions.*"
   ]
  },
  {
   "cell_type": "markdown",
   "id": "d33d6c67",
   "metadata": {},
   "source": [
    "<h3>In the next cell show the sum of the 10 numbers</h3>"
   ]
  },
  {
   "cell_type": "code",
   "execution_count": 2,
   "id": "69ba4cc2",
   "metadata": {},
   "outputs": [
    {
     "data": {
      "text/plain": [
       "55"
      ]
     },
     "execution_count": 2,
     "metadata": {},
     "output_type": "execute_result"
    }
   ],
   "source": [
    "1+2+3+4+5+6+7+8+9+10"
   ]
  },
  {
   "cell_type": "markdown",
   "id": "76028759",
   "metadata": {},
   "source": [
    "\n",
    "Horizontal Rule\n",
    "\n",
    "---\n",
    "\n",
    "\n",
    "Bullet list\n",
    "- Bullet 1\n",
    "- Bullet 2\n",
    "- Bullet 3\n",
    "\n",
    "Numbered list\n",
    "1. Numbered list 1\n",
    "2. Numbered list 2\n",
    "3. Numbered list 3\n",
    "\n",
    "Hyperlinks\n",
    "\n",
    "[Hyperlinks to Coursera](http://www.Coursera.org)\n",
    "\n",
    "Images\n",
    "![Logo Coursera](https://about.coursera.org/static/whiteCoursera-23ec484f7091914430ce19b07d09aedf.svg)\n",
    "\n",
    "\n",
    "> This is an example of blocked quotes\n",
    "\n",
    "~~strikethrough"
   ]
  }
 ],
 "metadata": {
  "celltoolbar": "Raw Cell Format",
  "kernelspec": {
   "display_name": "Python 3",
   "language": "python",
   "name": "python3"
  },
  "language_info": {
   "codemirror_mode": {
    "name": "ipython",
    "version": 3
   },
   "file_extension": ".py",
   "mimetype": "text/x-python",
   "name": "python",
   "nbconvert_exporter": "python",
   "pygments_lexer": "ipython3",
   "version": "3.8.8"
  }
 },
 "nbformat": 4,
 "nbformat_minor": 5
}
